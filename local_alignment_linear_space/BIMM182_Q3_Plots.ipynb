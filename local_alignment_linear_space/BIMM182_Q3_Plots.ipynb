{
 "cells": [
  {
   "cell_type": "markdown",
   "metadata": {},
   "source": [
    "**Match = 1, Mismatch = -30, Indel = -30** <br>"
   ]
  },
  {
   "cell_type": "code",
   "execution_count": 1,
   "metadata": {},
   "outputs": [
    {
     "name": "stdout",
     "output_type": "stream",
     "text": [
      "Populating the interactive namespace from numpy and matplotlib\n",
      "Mean is:  9.626\n"
     ]
    },
    {
     "data": {
      "text/plain": [
       "Text(0, 0.5, 'Frequency')"
      ]
     },
     "execution_count": 1,
     "metadata": {},
     "output_type": "execute_result"
    },
    {
     "data": {
      "image/png": "[encoded data removed]",
      "text/plain": [
       "<Figure size 432x288 with 1 Axes>"
      ]
     },
     "metadata": {
      "needs_background": "light"
     },
     "output_type": "display_data"
    }
   ],
   "source": [
    "%pylab inline\n",
    "length_30 = [9, 9, 9, 11, 10, 10, 11, 9, 10, 12, 9, 12, 11, 10, 9, 9, 10, 11, 9, 10, 9, 9, 9, 14, 9, 10, 9, 9, 11, 9, 9, 8, 10, 10, 10, 9, 9, 8, 9, 10, 9, 9, 10, 9, 10, 13, 11, 10, 9, 9, 10, 9, 9, 11, 9, 10, 9, 9, 10, 10, 9, 10, 9, 9, 9, 9, 9, 9, 9, 10, 10, 9, 10, 9, 11, 9, 10, 9, 10, 10, 10, 9, 10, 12, 10, 11, 9, 9, 10, 10, 9, 12, 11, 11, 9, 10, 9, 9, 10, 10, 11, 9, 10, 8, 9, 11, 9, 9, 11, 9, 9, 9, 10, 10, 11, 10, 9, 9, 10, 11, 10, 9, 9, 9, 10, 8, 9, 9, 9, 9, 9, 10, 10, 9, 10, 10, 11, 9, 9, 9, 10, 10, 9, 9, 12, 9, 11, 9, 10, 9, 9, 8, 10, 12, 10, 10, 10, 9, 9, 11, 11, 9, 10, 10, 12, 10, 9, 9, 9, 10, 9, 8, 9, 9, 9, 9, 11, 9, 9, 9, 11, 9, 11, 9, 11, 10, 10, 8, 9, 9, 9, 10, 10, 10, 9, 10, 10, 11, 10, 9, 9, 10, 10, 9, 8, 10, 11, 10, 10, 9, 10, 9, 10, 9, 9, 10, 10, 9, 10, 9, 10, 8, 10, 9, 9, 9, 10, 8, 9, 8, 9, 10, 9, 9, 9, 9, 9, 11, 9, 9, 11, 10, 11, 10, 9, 9, 9, 8, 10, 10, 8, 9, 9, 10, 10, 9, 10, 11, 9, 10, 9, 9, 10, 10, 9, 10, 9, 10, 8, 10, 9, 9, 9, 9, 11, 10, 11, 10, 11, 10, 10, 11, 9, 9, 10, 11, 9, 10, 9, 10, 10, 9, 9, 10, 12, 9, 9, 9, 10, 10, 10, 9, 12, 10, 11, 9, 8, 9, 9, 10, 10, 9, 10, 9, 10, 10, 10, 9, 9, 10, 10, 9, 9, 11, 10, 9, 12, 9, 9, 10, 10, 9, 10, 9, 9, 9, 11, 10, 10, 10, 10, 10, 9, 11, 11, 8, 13, 10, 10, 10, 9, 11, 11, 11, 9, 9, 11, 8, 11, 9, 9, 9, 10, 9, 10, 9, 9, 8, 9, 9, 11, 10, 10, 9, 8, 11, 9, 9, 9, 8, 9, 10, 10, 10, 9, 12, 11, 9, 9, 10, 9, 8, 10, 8, 10, 10, 10, 8, 9, 10, 10, 10, 10, 9, 10, 10, 9, 10, 9, 11, 9, 10, 9, 9, 9, 10, 9, 11, 9, 9, 9, 10, 9, 9, 9, 10, 9, 9, 10, 10, 9, 9, 9, 10, 10, 8, 10, 10, 11, 10, 9, 11, 9, 9, 9, 9, 9, 10, 10, 10, 9, 10, 10, 10, 9, 9, 10, 9, 10, 9, 9, 9, 9, 11, 9, 9, 9, 9, 9, 9, 11, 9, 11, 10, 10, 10, 10, 9, 9, 9, 9, 10, 10, 10, 9, 10, 8, 10, 10, 11, 10, 10, 11, 9, 9, 10, 10, 10, 10, 10]\n",
    "sum_30 = 0\n",
    "for i in range(len(length_30)):\n",
    "    sum_30 = sum_30 + length_30[i]\n",
    "print('Mean is: ', sum_30/len(length_30))\n",
    "fig = plt.figure()\n",
    "ax = fig.add_subplot(111)\n",
    "ax.hist(length_30, bins=10, alpha = 0.5, color = 'red')\n",
    "ax.set_xlabel(\"Alignment length\")\n",
    "ax.set_ylabel(\"Frequency\")"
   ]
  },
  {
   "cell_type": "markdown",
   "metadata": {},
   "source": [
    "**Match = 1, Mismatch = -20, Indel = -20** <br>"
   ]
  },
  {
   "cell_type": "code",
   "execution_count": 2,
   "metadata": {},
   "outputs": [
    {
     "name": "stdout",
     "output_type": "stream",
     "text": [
      "Populating the interactive namespace from numpy and matplotlib\n",
      "Mean is:  9.65\n"
     ]
    },
    {
     "data": {
      "text/plain": [
       "Text(0, 0.5, 'Frequency')"
      ]
     },
     "execution_count": 2,
     "metadata": {},
     "output_type": "execute_result"
    },
    {
     "data": {
      "image/png": "[encoded data removed]",
      "text/plain": [
       "<Figure size 432x288 with 1 Axes>"
      ]
     },
     "metadata": {
      "needs_background": "light"
     },
     "output_type": "display_data"
    }
   ],
   "source": [
    "%pylab inline\n",
    "length_20 = [9, 11, 9, 9, 10, 10, 9, 8, 9, 9, 10, 10, 10, 12, 10, 9, 8, 12, 8, 9, 8, 9, 10, 9, 10, 12, 9, 9, 9, 9, 10, 10, 10, 9, 9, 10, 9, 11, 9, 10, 9, 9, 10, 9, 9, 9, 10, 11, 12, 9, 14, 11, 9, 9, 9, 11, 10, 10, 12, 9, 9, 10, 9, 9, 9, 8, 10, 10, 11, 10, 9, 10, 9, 9, 12, 10, 9, 8, 10, 9, 12, 10, 10, 9, 10, 9, 9, 9, 9, 9, 10, 8, 9, 9, 10, 10, 10, 11, 9, 9, 11, 10, 10, 11, 9, 9, 9, 11, 10, 10, 9, 10, 10, 9, 10, 9, 11, 9, 9, 12, 8, 9, 10, 9, 11, 9, 9, 13, 8, 10, 9, 9, 10, 11, 9, 9, 10, 9, 12, 9, 10, 10, 11, 10, 9, 8, 9, 10, 12, 9, 11, 9, 10, 10, 9, 9, 10, 8, 10, 9, 10, 9, 10, 10, 9, 10, 10, 12, 8, 9, 9, 10, 9, 10, 10, 10, 10, 9, 9, 10, 9, 10, 9, 9, 9, 10, 10, 10, 10, 9, 10, 9, 9, 10, 9, 9, 9, 9, 10, 9, 9, 12, 9, 10, 11, 10, 9, 10, 9, 9, 10, 11, 9, 9, 9, 10, 9, 9, 10, 9, 10, 9, 10, 10, 9, 9, 9, 9, 8, 9, 11, 9, 10, 9, 9, 10, 10, 9, 9, 10, 9, 9, 11, 11, 10, 9, 9, 11, 9, 10, 11, 9, 10, 11, 9, 9, 10, 9, 10, 10, 10, 10, 10, 10, 9, 9, 12, 11, 8, 9, 8, 10, 9, 12, 9, 8, 9, 9, 10, 9, 8, 9, 9, 9, 12, 9, 8, 11, 9, 10, 10, 10, 11, 8, 9, 12, 8, 9, 11, 11, 10, 10, 9, 11, 11, 12, 11, 9, 9, 10, 9, 9, 9, 9, 10, 9, 10, 10, 11, 8, 8, 10, 9, 10, 9, 9, 10, 9, 9, 9, 9, 10, 9, 10, 10, 9, 11, 10, 11, 10, 9, 10, 9, 11, 14, 11, 9, 10, 10, 9, 10, 13, 10, 9, 10, 9, 10, 9, 10, 10, 9, 9, 9, 9, 11, 9, 9, 9, 11, 9, 8, 10, 10, 11, 9, 10, 10, 9, 10, 11, 10, 10, 9, 10, 13, 10, 10, 9, 10, 10, 10, 9, 10, 10, 9, 9, 10, 10, 9, 10, 10, 9, 9, 11, 10, 9, 11, 9, 11, 8, 9, 9, 10, 9, 10, 9, 10, 12, 10, 9, 10, 11, 10, 12, 9, 9, 10, 9, 9, 9, 10, 9, 10, 9, 9, 10, 10, 9, 10, 10, 10, 9, 11, 11, 8, 9, 9, 11, 8, 10, 10, 10, 9, 10, 10, 9, 9, 10, 9, 9, 9, 10, 10, 9, 10, 10, 9, 9, 10, 9, 9, 10, 8, 10, 9, 9, 8, 9, 9, 9, 10, 11, 9, 9, 12, 9, 9, 10, 9, 9, 9, 11, 9, 11, 8, 9, 9, 9, 11, 10]\n",
    "sum_20 = 0\n",
    "for i in range(len(length_20)):\n",
    "    sum_20 = sum_20 + length_20[i]\n",
    "print('Mean is: ', sum_20/len(length_20))\n",
    "fig = plt.figure()\n",
    "ax = fig.add_subplot(111)\n",
    "ax.hist(length_20, bins=10, alpha = 0.5, color = 'red')\n",
    "ax.set_xlabel(\"Alignment length\")\n",
    "ax.set_ylabel(\"Frequency\")"
   ]
  },
  {
   "cell_type": "markdown",
   "metadata": {},
   "source": [
    "**Match = 1, Mismatch = -10, Indel = -10** <br>"
   ]
  },
  {
   "cell_type": "code",
   "execution_count": 3,
   "metadata": {
    "scrolled": true
   },
   "outputs": [
    {
     "name": "stdout",
     "output_type": "stream",
     "text": [
      "Populating the interactive namespace from numpy and matplotlib\n",
      "Mean is:  9.608\n"
     ]
    },
    {
     "data": {
      "text/plain": [
       "Text(0, 0.5, 'Frequency')"
      ]
     },
     "execution_count": 3,
     "metadata": {},
     "output_type": "execute_result"
    },
    {
     "data": {
      "image/png": "[encoded data removed]",
      "text/plain": [
       "<Figure size 432x288 with 1 Axes>"
      ]
     },
     "metadata": {
      "needs_background": "light"
     },
     "output_type": "display_data"
    }
   ],
   "source": [
    "%pylab inline\n",
    "length_10 = [9, 10, 9, 10, 9, 10, 9, 9, 9, 9, 10, 14, 8, 9, 10, 11, 9, 10, 10, 9, 9, 9, 10, 10, 9, 10, 11, 10, 10, 10, 10, 9, 9, 9, 8, 10, 10, 10, 9, 9, 9, 13, 9, 10, 10, 9, 9, 12, 10, 10, 9, 9, 9, 12, 10, 9, 11, 9, 10, 10, 11, 9, 9, 10, 11, 9, 8, 9, 10, 9, 10, 9, 8, 10, 8, 10, 9, 10, 9, 9, 9, 9, 10, 9, 9, 9, 9, 9, 10, 10, 11, 9, 10, 11, 10, 10, 10, 11, 9, 10, 9, 9, 10, 9, 11, 9, 9, 10, 10, 9, 8, 9, 9, 9, 9, 9, 10, 10, 11, 9, 9, 11, 10, 10, 10, 9, 10, 10, 10, 9, 9, 9, 9, 10, 10, 10, 8, 10, 10, 10, 10, 9, 10, 8, 10, 11, 9, 9, 11, 10, 11, 9, 10, 10, 9, 8, 9, 8, 10, 10, 8, 10, 9, 9, 9, 10, 10, 9, 10, 10, 10, 10, 8, 9, 9, 13, 9, 12, 10, 10, 10, 13, 9, 9, 10, 9, 9, 9, 10, 9, 9, 9, 9, 9, 9, 9, 9, 11, 9, 10, 9, 9, 10, 10, 9, 9, 12, 9, 10, 10, 9, 9, 9, 9, 10, 9, 9, 9, 10, 9, 11, 9, 9, 10, 11, 10, 9, 9, 10, 9, 9, 9, 10, 13, 9, 9, 10, 9, 10, 9, 9, 10, 10, 9, 10, 10, 14, 9, 10, 10, 9, 10, 9, 10, 9, 9, 10, 10, 9, 9, 9, 11, 10, 9, 10, 9, 9, 10, 14, 9, 11, 10, 10, 10, 9, 10, 11, 11, 12, 9, 10, 9, 11, 10, 9, 10, 11, 10, 9, 11, 9, 9, 9, 9, 9, 9, 10, 9, 9, 10, 10, 9, 11, 9, 10, 9, 9, 9, 9, 11, 11, 8, 10, 9, 10, 9, 9, 9, 9, 12, 10, 9, 9, 9, 11, 9, 9, 9, 10, 10, 8, 9, 9, 9, 11, 10, 9, 9, 9, 9, 9, 9, 9, 9, 9, 9, 10, 9, 9, 10, 9, 9, 9, 10, 10, 9, 9, 9, 10, 9, 9, 9, 10, 9, 10, 10, 9, 12, 8, 8, 9, 10, 11, 9, 10, 9, 12, 9, 9, 10, 9, 9, 10, 9, 10, 9, 11, 10, 8, 10, 11, 10, 9, 10, 10, 9, 9, 9, 9, 9, 11, 10, 10, 11, 11, 10, 9, 9, 9, 9, 9, 11, 10, 10, 10, 11, 12, 9, 9, 10, 9, 10, 9, 9, 9, 9, 10, 10, 10, 10, 9, 9, 9, 10, 12, 8, 10, 9, 9, 12, 9, 9, 10, 9, 8, 9, 10, 10, 10, 9, 9, 11, 10, 11, 9, 12, 9, 11, 10, 9, 9, 8, 10, 9, 9, 11, 9, 10, 9, 9, 10, 10, 11, 10, 10, 9, 11, 9, 9, 10, 9, 9, 9, 9, 9, 10, 10, 9, 9, 10, 10, 8, 10, 10, 9, 10, 9, 9, 9, 10]\n",
    "sum_10 = 0\n",
    "for i in range(len(length_10)):\n",
    "    sum_10 = sum_10 + length_10[i]\n",
    "print('Mean is: ', sum_10/len(length_10))\n",
    "fig = plt.figure()\n",
    "ax = fig.add_subplot(111)\n",
    "ax.hist(length_10, bins=10, alpha = 0.5, color = 'red')\n",
    "ax.set_xlabel(\"Alignment length\")\n",
    "ax.set_ylabel(\"Frequency\")"
   ]
  },
  {
   "cell_type": "markdown",
   "metadata": {},
   "source": [
    "**Match = 1, Mismatch = -1, Indel = -1** <br>"
   ]
  },
  {
   "cell_type": "code",
   "execution_count": 4,
   "metadata": {},
   "outputs": [
    {
     "name": "stdout",
     "output_type": "stream",
     "text": [
      "Populating the interactive namespace from numpy and matplotlib\n",
      "Mean is:  1069.374\n"
     ]
    },
    {
     "data": {
      "text/plain": [
       "Text(0, 0.5, 'Frequency')"
      ]
     },
     "execution_count": 4,
     "metadata": {},
     "output_type": "execute_result"
    },
    {
     "data": {
      "image/png": "[encoded data removed]",
      "text/plain": [
       "<Figure size 432x288 with 1 Axes>"
      ]
     },
     "metadata": {
      "needs_background": "light"
     },
     "output_type": "display_data"
    }
   ],
   "source": [
    "%pylab inline\n",
    "length_1 = [916, 1109, 1105, 1114, 1118, 1158, 1056, 1006, 1119, 1090, 1141, 1090, 1006, 1055, 1088, 1090, 1063, 1019, 1049, 1020, 1073, 1103, 988, 1120, 1103, 1127, 929, 1068, 1086, 1043, 1135, 1078, 1013, 1116, 1113, 1114, 1088, 988, 1085, 1047, 1052, 949, 1029, 1028, 1092, 1110, 1044, 1094, 986, 1108, 1042, 901, 1107, 1093, 1043, 1100, 1073, 1023, 1083, 1074, 1107, 1053, 1041, 1093, 1151, 1076, 1083, 1093, 1048, 1089, 1154, 1077, 1119, 974, 1032, 1097, 1121, 958, 1026, 987, 1040, 1029, 1083, 1068, 1132, 1083, 1096, 1067, 1151, 1136, 1050, 1106, 1106, 1086, 1052, 1076, 953, 1132, 1018, 1126, 1061, 1027, 1119, 1039, 959, 1096, 1116, 952, 979, 959, 1110, 1078, 1090, 1047, 996, 1043, 1151, 1100, 1034, 1111, 1081, 1095, 1085, 1078, 1092, 1106, 1002, 1127, 1061, 1034, 1074, 1088, 993, 1065, 1054, 1105, 1059, 1063, 1072, 1056, 1098, 1094, 1073, 1107, 950, 1028, 1033, 1139, 1092, 1074, 1118, 1028, 1111, 1052, 1122, 1124, 1030, 1122, 1028, 1056, 1067, 1115, 946, 1020, 938, 1084, 1127, 1117, 1119, 1087, 955, 1107, 1126, 1113, 1056, 998, 981, 1127, 1079, 1132, 1038, 1118, 1084, 1110, 1057, 949, 1099, 1075, 1116, 1112, 1128, 1104, 1102, 1069, 1085, 1109, 1133, 1129, 1049, 918, 1135, 1008, 1009, 1061, 1130, 1106, 1125, 1079, 1049, 988, 993, 1035, 868, 1089, 1048, 1050, 1046, 1055, 1081, 1153, 1105, 1129, 864, 1087, 1088, 1088, 1081, 1061, 997, 1050, 1102, 1092, 1084, 1043, 1084, 1061, 1129, 1154, 1108, 1022, 1054, 1055, 960, 1109, 1143, 1100, 924, 980, 1122, 1098, 961, 1141, 1106, 1043, 955, 1129, 1104, 1128, 978, 1121, 1064, 944, 1035, 1109, 1011, 1134, 1063, 1105, 1125, 1121, 1087, 1025, 1083, 1031, 1000, 1074, 1069, 1069, 1058, 1101, 1032, 1105, 1083, 1090, 1050, 1119, 1082, 1093, 1141, 1020, 1059, 1088, 1076, 1110, 1113, 1109, 1042, 964, 1116, 1096, 1121, 1120, 1131, 1141, 1101, 1060, 1047, 1088, 975, 1128, 1046, 1074, 1098, 1079, 1117, 1137, 1109, 1064, 1117, 1074, 1128, 1098, 1122, 1148, 1087, 1071, 1141, 1107, 1114, 1056, 1053, 1044, 983, 1121, 1053, 1095, 973, 1019, 1075, 899, 1140, 998, 1084, 1108, 1119, 1131, 1052, 992, 1111, 1101, 1046, 984, 1082, 1140, 1096, 1061, 1064, 1108, 1033, 1063, 1098, 1089, 1109, 1037, 1138, 1102, 1061, 1019, 1073, 927, 938, 1088, 1111, 965, 1108, 981, 1102, 1102, 1026, 1098, 1019, 1081, 1088, 1119, 1109, 1073, 1068, 1089, 1151, 1039, 1087, 1049, 1098, 1114, 1055, 1104, 1060, 1104, 1093, 1066, 1083, 1082, 978, 1077, 1059, 1139, 1016, 915, 1040, 994, 1023, 1124, 1101, 1037, 1035, 1068, 1089, 999, 1125, 1094, 1054, 1099, 1035, 1080, 1060, 1043, 1142, 1102, 1003, 1005, 1023, 1103, 1129, 1137, 1117, 1146, 883, 1091, 1071, 1080, 1099, 1082, 1124, 880, 970, 1146, 1110, 1077, 1057, 1109, 1096, 1022, 1108, 1149, 1120, 1134, 1112, 1117, 1071, 1024, 1120, 1097, 1045, 1119, 1116, 1076, 1103, 1070, 1108, 1114, 969, 1005, 1018, 1149, 1148, 999, 1003, 1122, 1066, 1096, 1095, 1081, 1025, 1028, 1114, 1045, 1102, 1089, 948, 1114, 1117, 987, 1051, 965, 1026, 1121, 1037, 1089, 1055, 1115]\n",
    "sum_1 = 0\n",
    "for i in range(len(length_1)):\n",
    "    sum_1 = sum_1 + length_1[i]\n",
    "print('Mean is: ', sum_1/len(length_1))\n",
    "fig = plt.figure()\n",
    "ax = fig.add_subplot(111)\n",
    "ax.hist(length_1, bins=10, alpha = 0.5, color = 'red')\n",
    "ax.set_xlabel(\"Alignment length\")\n",
    "ax.set_ylabel(\"Frequency\")"
   ]
  },
  {
   "cell_type": "markdown",
   "metadata": {},
   "source": [
    "**Match = 1, Mismatch = -0.5, Indel = -0.5** <br>"
   ]
  },
  {
   "cell_type": "code",
   "execution_count": 5,
   "metadata": {},
   "outputs": [
    {
     "name": "stdout",
     "output_type": "stream",
     "text": [
      "Populating the interactive namespace from numpy and matplotlib\n",
      "Mean is:  1166.586\n"
     ]
    },
    {
     "data": {
      "text/plain": [
       "Text(0, 0.5, 'Frequency')"
      ]
     },
     "execution_count": 5,
     "metadata": {},
     "output_type": "execute_result"
    },
    {
     "data": {
      "image/png": "[encoded data removed]",
      "text/plain": [
       "<Figure size 432x288 with 1 Axes>"
      ]
     },
     "metadata": {
      "needs_background": "light"
     },
     "output_type": "display_data"
    }
   ],
   "source": [
    "%pylab inline \n",
    "length_half = [1151, 1180, 1156, 1183, 1148, 1164, 1168, 1158, 1172, 1168, 1176, 1168, 1138, 1159, 1162, 1169, 1142, 1177, 1171, 1151, 1184, 1179, 1176, 1176, 1171, 1165, 1164, 1179, 1182, 1172, 1165, 1180, 1167, 1174, 1148, 1170, 1156, 1186, 1129, 1154, 1183, 1174, 1161, 1148, 1174, 1167, 1184, 1167, 1176, 1155, 1167, 1160, 1179, 1174, 1140, 1176, 1183, 1147, 1151, 1186, 1197, 1173, 1164, 1193, 1156, 1167, 1172, 1154, 1158, 1181, 1176, 1179, 1159, 1164, 1163, 1174, 1163, 1165, 1175, 1177, 1179, 1163, 1163, 1164, 1198, 1165, 1179, 1160, 1156, 1153, 1176, 1157, 1168, 1154, 1180, 1182, 1171, 1182, 1175, 1166, 1169, 1170, 1173, 1142, 1156, 1172, 1182, 1176, 1159, 1167, 1167, 1174, 1183, 1171, 1173, 1170, 1177, 1157, 1150, 1162, 1177, 1164, 1176, 1158, 1170, 1181, 1176, 1172, 1189, 1155, 1176, 1162, 1168, 1138, 1162, 1166, 1169, 1170, 1163, 1186, 1141, 1175, 1166, 1187, 1157, 1156, 1172, 1174, 1158, 1133, 1177, 1170, 1169, 1176, 1151, 1167, 1168, 1139, 1147, 1180, 1165, 1143, 1170, 1140, 1156, 1183, 1164, 1168, 1184, 1170, 1185, 1168, 1179, 1161, 1145, 1167, 1127, 1164, 1183, 1186, 1160, 1161, 1149, 1173, 1174, 1168, 1156, 1193, 1175, 1168, 1165, 1161, 1168, 1168, 1170, 1177, 1153, 1161, 1187, 1202, 1150, 1186, 1158, 1165, 1188, 1161, 1155, 1159, 1189, 1168, 1150, 1173, 1152, 1190, 1153, 1172, 1146, 1195, 1157, 1171, 1180, 1130, 1142, 1168, 1161, 1159, 1167, 1174, 1160, 1157, 1177, 1169, 1159, 1160, 1158, 1192, 1180, 1173, 1192, 1159, 1160, 1175, 1116, 1183, 1160, 1150, 1182, 1163, 1171, 1160, 1183, 1174, 1175, 1171, 1155, 1175, 1191, 1142, 1152, 1167, 1175, 1139, 1132, 1162, 1139, 1147, 1179, 1155, 1166, 1178, 1154, 1168, 1150, 1173, 1167, 1157, 1161, 1183, 1168, 1170, 1163, 1138, 1151, 1168, 1163, 1157, 1174, 1172, 1176, 1170, 1175, 1177, 1165, 1158, 1157, 1177, 1173, 1173, 1156, 1169, 1190, 1169, 1164, 1164, 1162, 1175, 1153, 1194, 1163, 1170, 1178, 1119, 1170, 1190, 1178, 1136, 1169, 1160, 1149, 1138, 1173, 1182, 1170, 1171, 1142, 1163, 1174, 1167, 1176, 1190, 1175, 1159, 1155, 1168, 1172, 1167, 1168, 1177, 1169, 1169, 1163, 1166, 1173, 1165, 1175, 1167, 1174, 1169, 1172, 1175, 1172, 1172, 1162, 1180, 1156, 1144, 1152, 1188, 1181, 1166, 1154, 1180, 1176, 1129, 1147, 1171, 1166, 1178, 1171, 1156, 1154, 1146, 1172, 1164, 1180, 1173, 1173, 1168, 1174, 1153, 1179, 1180, 1167, 1158, 1176, 1184, 1130, 1162, 1159, 1188, 1139, 1171, 1147, 1164, 1163, 1152, 1176, 1184, 1185, 1173, 1167, 1168, 1172, 1183, 1187, 1168, 1161, 1158, 1136, 1166, 1189, 1181, 1168, 1172, 1176, 1170, 1171, 1182, 1140, 1173, 1190, 1156, 1179, 1170, 1156, 1161, 1182, 1176, 1166, 1172, 1180, 1170, 1157, 1178, 1139, 1164, 1168, 1182, 1169, 1172, 1149, 1169, 1185, 1172, 1142, 1183, 1153, 1164, 1155, 1150, 1177, 1151, 1157, 1160, 1167, 1141, 1156, 1178, 1184, 1183, 1176, 1171, 1153, 1173, 1178, 1148, 1144, 1173, 1165, 1177, 1132, 1172, 1174, 1179, 1166, 1151, 1174, 1139, 1171, 1154, 1174, 1183, 1177, 1174, 1140, 1138, 1171, 1163, 1150, 1189, 1171, 1156, 1176, 1186, 1145, 1164, 1178, 1176, 1159, 1156]\n",
    "sum_half = 0\n",
    "for i in range(len(length_half)):\n",
    "    sum_half = sum_half + length_half[i]\n",
    "print('Mean is: ', sum_half/len(length_half))\n",
    "fig = plt.figure()\n",
    "ax = fig.add_subplot(111)\n",
    "ax.hist(length_half, bins=10, alpha = 0.5, color = 'red')\n",
    "ax.set_xlabel(\"Alignment length\")\n",
    "ax.set_ylabel(\"Frequency\")"
   ]
  },
  {
   "cell_type": "markdown",
   "metadata": {},
   "source": [
    "**Match = 1, Mismatch = -0.33, Indel = -0.33** <br>"
   ]
  },
  {
   "cell_type": "code",
   "execution_count": 6,
   "metadata": {},
   "outputs": [
    {
     "name": "stdout",
     "output_type": "stream",
     "text": [
      "Populating the interactive namespace from numpy and matplotlib\n",
      "Mean is:  1189.718\n"
     ]
    },
    {
     "data": {
      "text/plain": [
       "Text(0, 0.5, 'Frequency')"
      ]
     },
     "execution_count": 6,
     "metadata": {},
     "output_type": "execute_result"
    },
    {
     "data": {
      "image/png": "[encoded data removed]",
      "text/plain": [
       "<Figure size 432x288 with 1 Axes>"
      ]
     },
     "metadata": {
      "needs_background": "light"
     },
     "output_type": "display_data"
    }
   ],
   "source": [
    "%pylab inline\n",
    "length_third = [1178, 1180, 1209, 1175, 1187, 1189, 1203, 1184, 1203, 1199, 1201, 1191, 1184, 1175, 1170, 1193, 1209, 1191, 1214, 1177, 1188, 1176, 1186, 1196, 1183, 1173, 1186, 1197, 1196, 1181, 1206, 1179, 1201, 1209, 1195, 1185, 1170, 1182, 1180, 1179, 1192, 1179, 1171, 1195, 1190, 1196, 1197, 1191, 1195, 1200, 1186, 1180, 1187, 1186, 1200, 1181, 1188, 1193, 1171, 1194, 1183, 1182, 1202, 1206, 1192, 1197, 1204, 1192, 1178, 1197, 1191, 1191, 1190, 1186, 1198, 1184, 1177, 1184, 1179, 1197, 1180, 1192, 1159, 1176, 1182, 1181, 1192, 1187, 1199, 1206, 1186, 1217, 1172, 1187, 1193, 1185, 1186, 1191, 1213, 1188, 1203, 1183, 1196, 1201, 1178, 1189, 1179, 1193, 1181, 1188, 1188, 1191, 1196, 1195, 1192, 1192, 1186, 1192, 1191, 1209, 1187, 1187, 1178, 1183, 1194, 1211, 1195, 1181, 1186, 1204, 1188, 1195, 1188, 1176, 1161, 1185, 1189, 1179, 1176, 1193, 1195, 1170, 1204, 1179, 1190, 1203, 1195, 1167, 1170, 1191, 1205, 1169, 1206, 1191, 1193, 1204, 1190, 1210, 1214, 1204, 1180, 1189, 1193, 1193, 1204, 1182, 1196, 1194, 1184, 1202, 1187, 1187, 1186, 1174, 1197, 1192, 1199, 1199, 1185, 1199, 1202, 1197, 1178, 1181, 1183, 1201, 1187, 1148, 1173, 1197, 1203, 1192, 1199, 1181, 1180, 1200, 1192, 1191, 1174, 1203, 1188, 1182, 1199, 1193, 1187, 1178, 1170, 1175, 1185, 1200, 1177, 1187, 1204, 1189, 1188, 1186, 1177, 1193, 1181, 1189, 1182, 1198, 1198, 1172, 1183, 1176, 1181, 1194, 1160, 1199, 1204, 1186, 1174, 1153, 1199, 1184, 1186, 1183, 1191, 1200, 1186, 1193, 1199, 1189, 1222, 1177, 1178, 1180, 1174, 1205, 1197, 1194, 1183, 1212, 1199, 1160, 1191, 1197, 1201, 1196, 1179, 1181, 1199, 1184, 1193, 1196, 1175, 1179, 1189, 1188, 1186, 1198, 1209, 1194, 1187, 1190, 1195, 1179, 1190, 1192, 1192, 1194, 1193, 1202, 1202, 1191, 1187, 1190, 1187, 1191, 1204, 1207, 1191, 1191, 1198, 1187, 1187, 1176, 1174, 1186, 1182, 1175, 1201, 1192, 1192, 1196, 1187, 1194, 1186, 1188, 1162, 1219, 1163, 1195, 1185, 1203, 1193, 1191, 1186, 1193, 1194, 1189, 1192, 1195, 1200, 1197, 1193, 1194, 1180, 1174, 1187, 1162, 1180, 1195, 1193, 1183, 1179, 1201, 1178, 1187, 1190, 1193, 1196, 1213, 1204, 1180, 1199, 1182, 1187, 1192, 1199, 1199, 1154, 1180, 1187, 1196, 1188, 1196, 1187, 1189, 1165, 1191, 1202, 1183, 1173, 1199, 1205, 1179, 1185, 1207, 1186, 1200, 1175, 1174, 1197, 1186, 1187, 1200, 1188, 1202, 1197, 1169, 1194, 1181, 1184, 1188, 1208, 1183, 1185, 1201, 1189, 1201, 1189, 1200, 1204, 1192, 1194, 1177, 1201, 1208, 1201, 1193, 1212, 1178, 1172, 1166, 1183, 1192, 1191, 1185, 1208, 1203, 1184, 1176, 1195, 1196, 1200, 1207, 1201, 1188, 1192, 1200, 1191, 1200, 1178, 1190, 1191, 1178, 1204, 1189, 1174, 1204, 1206, 1195, 1193, 1164, 1195, 1170, 1195, 1189, 1188, 1176, 1184, 1193, 1191, 1206, 1190, 1180, 1197, 1194, 1193, 1173, 1201, 1179, 1198, 1201, 1205, 1202, 1191, 1196, 1197, 1183, 1187, 1199, 1198, 1206, 1185, 1183, 1179, 1206, 1202, 1205, 1180, 1191, 1185, 1176, 1188, 1175, 1194, 1206, 1194, 1215, 1171, 1188, 1195, 1187, 1178, 1181, 1201, 1183, 1198, 1190, 1191, 1189, 1200, 1193, 1182, 1191, 1198, 1182]\n",
    "sum_third = 0\n",
    "for i in range(len(length_third)):\n",
    "    sum_third = sum_third + length_third[i]\n",
    "print('Mean is: ', sum_third/len(length_third))\n",
    "fig = plt.figure()\n",
    "ax = fig.add_subplot(111)\n",
    "ax.hist(length_third, bins=10, alpha = 0.5, color = 'red')\n",
    "ax.set_xlabel(\"Alignment length\")\n",
    "ax.set_ylabel(\"Frequency\")\n"
   ]
  },
  {
   "cell_type": "markdown",
   "metadata": {},
   "source": [
    "**Match = 1, Mismatch = -0.25, Indel = -0.25** <br>"
   ]
  },
  {
   "cell_type": "code",
   "execution_count": 7,
   "metadata": {},
   "outputs": [
    {
     "name": "stdout",
     "output_type": "stream",
     "text": [
      "Populating the interactive namespace from numpy and matplotlib\n",
      "Mean is:  1192.472\n"
     ]
    },
    {
     "data": {
      "text/plain": [
       "Text(0, 0.5, 'Frequency')"
      ]
     },
     "execution_count": 7,
     "metadata": {},
     "output_type": "execute_result"
    },
    {
     "data": {
      "image/png": "[encoded data removed]",
      "text/plain": [
       "<Figure size 432x288 with 1 Axes>"
      ]
     },
     "metadata": {
      "needs_background": "light"
     },
     "output_type": "display_data"
    }
   ],
   "source": [
    "%pylab inline\n",
    "length_quarter = [1176, 1192, 1193, 1196, 1197, 1189, 1178, 1195, 1182, 1192, 1190, 1199, 1192, 1198, 1180, 1198, 1185, 1180, 1210, 1194, 1187, 1179, 1200, 1189, 1207, 1199, 1192, 1197, 1215, 1182, 1188, 1204, 1196, 1167, 1199, 1203, 1197, 1206, 1192, 1190, 1186, 1179, 1211, 1194, 1172, 1164, 1189, 1203, 1186, 1185, 1200, 1209, 1192, 1177, 1192, 1212, 1196, 1179, 1192, 1194, 1179, 1223, 1210, 1186, 1201, 1186, 1179, 1210, 1199, 1185, 1194, 1194, 1199, 1199, 1219, 1207, 1198, 1198, 1191, 1192, 1180, 1189, 1185, 1212, 1206, 1186, 1189, 1189, 1213, 1197, 1203, 1166, 1208, 1188, 1195, 1186, 1192, 1186, 1198, 1196, 1192, 1201, 1206, 1166, 1179, 1203, 1187, 1206, 1186, 1189, 1204, 1183, 1203, 1203, 1175, 1187, 1182, 1207, 1161, 1198, 1188, 1187, 1191, 1201, 1180, 1176, 1187, 1199, 1185, 1184, 1194, 1195, 1195, 1206, 1193, 1186, 1190, 1207, 1185, 1186, 1211, 1199, 1184, 1176, 1197, 1182, 1197, 1182, 1174, 1196, 1178, 1187, 1186, 1190, 1195, 1184, 1181, 1218, 1206, 1188, 1185, 1195, 1188, 1195, 1186, 1199, 1184, 1201, 1203, 1195, 1192, 1193, 1192, 1176, 1200, 1182, 1179, 1202, 1168, 1168, 1196, 1183, 1192, 1190, 1205, 1204, 1198, 1196, 1180, 1184, 1202, 1187, 1192, 1216, 1178, 1206, 1186, 1210, 1197, 1185, 1198, 1190, 1189, 1185, 1187, 1210, 1211, 1192, 1189, 1196, 1209, 1184, 1215, 1181, 1192, 1196, 1189, 1191, 1198, 1200, 1192, 1197, 1195, 1182, 1200, 1209, 1190, 1191, 1192, 1185, 1199, 1195, 1187, 1216, 1193, 1186, 1214, 1181, 1207, 1210, 1188, 1205, 1190, 1192, 1185, 1204, 1201, 1185, 1217, 1186, 1201, 1193, 1190, 1195, 1191, 1187, 1188, 1212, 1168, 1197, 1189, 1195, 1193, 1211, 1193, 1194, 1186, 1186, 1189, 1192, 1183, 1179, 1198, 1198, 1175, 1182, 1203, 1197, 1178, 1183, 1199, 1202, 1201, 1193, 1184, 1200, 1193, 1198, 1198, 1202, 1189, 1176, 1202, 1210, 1190, 1203, 1197, 1197, 1198, 1189, 1184, 1187, 1191, 1186, 1205, 1198, 1207, 1162, 1188, 1191, 1192, 1189, 1199, 1190, 1190, 1186, 1183, 1197, 1186, 1193, 1193, 1172, 1190, 1186, 1193, 1200, 1206, 1194, 1191, 1203, 1183, 1197, 1187, 1215, 1189, 1207, 1205, 1186, 1197, 1198, 1182, 1204, 1164, 1187, 1173, 1188, 1193, 1187, 1195, 1183, 1198, 1190, 1168, 1178, 1185, 1179, 1182, 1202, 1203, 1185, 1200, 1190, 1182, 1195, 1174, 1214, 1182, 1206, 1190, 1208, 1179, 1185, 1187, 1200, 1199, 1201, 1192, 1190, 1184, 1181, 1200, 1187, 1177, 1180, 1194, 1197, 1188, 1171, 1192, 1190, 1202, 1191, 1208, 1198, 1221, 1210, 1191, 1194, 1184, 1190, 1201, 1189, 1183, 1192, 1190, 1204, 1175, 1202, 1199, 1181, 1215, 1201, 1190, 1206, 1206, 1211, 1177, 1173, 1203, 1195, 1193, 1190, 1189, 1193, 1194, 1187, 1190, 1173, 1191, 1203, 1193, 1182, 1183, 1191, 1206, 1194, 1188, 1193, 1189, 1186, 1206, 1182, 1202, 1190, 1208, 1207, 1180, 1178, 1200, 1187, 1186, 1189, 1197, 1211, 1189, 1196, 1177, 1189, 1193, 1194, 1189, 1198, 1200, 1186, 1195, 1186, 1205, 1182, 1203, 1188, 1197, 1201, 1200, 1175, 1213, 1184, 1188, 1182, 1177, 1179, 1185, 1215, 1181, 1190, 1195, 1187, 1189, 1203, 1196, 1201, 1204, 1175, 1188, 1201, 1185, 1200, 1205, 1176, 1188, 1189]\n",
    "sum_quarter = 0\n",
    "for i in range(len(length_quarter)):\n",
    "    sum_quarter = sum_quarter + length_quarter[i]\n",
    "print('Mean is: ', sum_quarter/len(length_quarter))\n",
    "fig = plt.figure()\n",
    "ax = fig.add_subplot(111)\n",
    "ax.hist(length_quarter, bins=10, alpha = 0.5, color = 'red')\n",
    "ax.set_xlabel(\"Alignment length\")\n",
    "ax.set_ylabel(\"Frequency\")\n"
   ]
  },
  {
   "cell_type": "markdown",
   "metadata": {},
   "source": [
    "**Match = 1, Mismatch = 0, Indel = 0** <br>"
   ]
  },
  {
   "cell_type": "code",
   "execution_count": 8,
   "metadata": {},
   "outputs": [
    {
     "name": "stdout",
     "output_type": "stream",
     "text": [
      "Populating the interactive namespace from numpy and matplotlib\n",
      "Mean is:  1228.816\n"
     ]
    },
    {
     "data": {
      "text/plain": [
       "Text(0, 0.5, 'Frequency')"
      ]
     },
     "execution_count": 8,
     "metadata": {},
     "output_type": "execute_result"
    },
    {
     "data": {
      "image/png": "[encoded data removed]",
      "text/plain": [
       "<Figure size 432x288 with 1 Axes>"
      ]
     },
     "metadata": {
      "needs_background": "light"
     },
     "output_type": "display_data"
    }
   ],
   "source": [
    "%pylab inline\n",
    "length_zero = [1233, 1229, 1224, 1222, 1230, 1211, 1222, 1229, 1240, 1238, 1223, 1237, 1230, 1222, 1224, 1235, 1225, 1228, 1218, 1233, 1224, 1239, 1235, 1237, 1218, 1240, 1239, 1210, 1238, 1239, 1229, 1257, 1236, 1217, 1230, 1229, 1205, 1240, 1239, 1217, 1246, 1236, 1228, 1240, 1239, 1241, 1222, 1223, 1236, 1232, 1245, 1216, 1231, 1248, 1231, 1216, 1233, 1225, 1231, 1225, 1223, 1233, 1224, 1228, 1233, 1219, 1221, 1231, 1232, 1226, 1251, 1235, 1246, 1231, 1222, 1212, 1225, 1239, 1231, 1222, 1238, 1245, 1234, 1222, 1221, 1229, 1244, 1235, 1231, 1226, 1238, 1219, 1238, 1224, 1231, 1245, 1205, 1223, 1234, 1244, 1225, 1230, 1217, 1216, 1234, 1221, 1226, 1217, 1250, 1249, 1234, 1223, 1235, 1232, 1228, 1224, 1239, 1213, 1228, 1240, 1222, 1239, 1224, 1239, 1224, 1218, 1235, 1201, 1239, 1222, 1252, 1244, 1224, 1208, 1249, 1223, 1221, 1212, 1227, 1217, 1204, 1221, 1220, 1243, 1211, 1228, 1223, 1220, 1242, 1247, 1219, 1228, 1229, 1227, 1234, 1232, 1226, 1228, 1216, 1230, 1223, 1238, 1238, 1237, 1219, 1206, 1230, 1229, 1225, 1232, 1247, 1227, 1226, 1243, 1246, 1218, 1229, 1219, 1227, 1217, 1228, 1255, 1220, 1230, 1209, 1217, 1232, 1240, 1228, 1220, 1228, 1226, 1211, 1245, 1220, 1241, 1235, 1226, 1221, 1217, 1235, 1233, 1230, 1226, 1213, 1241, 1218, 1219, 1228, 1231, 1234, 1251, 1230, 1224, 1224, 1236, 1229, 1224, 1229, 1230, 1223, 1229, 1239, 1232, 1236, 1227, 1234, 1221, 1226, 1235, 1225, 1247, 1241, 1236, 1230, 1230, 1227, 1244, 1233, 1240, 1238, 1224, 1226, 1230, 1225, 1227, 1233, 1236, 1226, 1267, 1236, 1219, 1221, 1226, 1242, 1218, 1221, 1237, 1226, 1221, 1245, 1227, 1227, 1226, 1226, 1228, 1233, 1232, 1246, 1235, 1220, 1232, 1226, 1212, 1234, 1240, 1215, 1230, 1229, 1204, 1240, 1218, 1225, 1211, 1236, 1220, 1236, 1236, 1242, 1238, 1236, 1203, 1232, 1231, 1250, 1225, 1233, 1233, 1232, 1222, 1222, 1241, 1226, 1227, 1214, 1244, 1237, 1233, 1230, 1229, 1214, 1228, 1223, 1222, 1228, 1216, 1230, 1233, 1229, 1230, 1229, 1226, 1217, 1237, 1231, 1203, 1239, 1221, 1235, 1222, 1248, 1220, 1233, 1226, 1225, 1220, 1220, 1224, 1232, 1239, 1231, 1220, 1218, 1213, 1225, 1223, 1223, 1231, 1233, 1229, 1218, 1204, 1227, 1226, 1242, 1238, 1218, 1227, 1221, 1245, 1217, 1220, 1242, 1226, 1231, 1233, 1229, 1220, 1216, 1249, 1231, 1220, 1235, 1235, 1254, 1217, 1239, 1227, 1213, 1232, 1237, 1236, 1213, 1245, 1217, 1234, 1237, 1253, 1217, 1230, 1231, 1227, 1233, 1236, 1231, 1230, 1231, 1210, 1230, 1223, 1220, 1262, 1233, 1218, 1224, 1230, 1216, 1248, 1227, 1223, 1211, 1224, 1223, 1226, 1231, 1216, 1222, 1217, 1232, 1217, 1210, 1215, 1236, 1230, 1229, 1237, 1229, 1244, 1229, 1233, 1223, 1247, 1233, 1231, 1231, 1234, 1229, 1227, 1235, 1230, 1210, 1224, 1230, 1214, 1215, 1219, 1223, 1235, 1246, 1225, 1213, 1240, 1229, 1244, 1234, 1221, 1223, 1217, 1237, 1229, 1241, 1219, 1231, 1231, 1222, 1213, 1245, 1227, 1235, 1234, 1225, 1238, 1255, 1211, 1223, 1221, 1240, 1228, 1212, 1216, 1227, 1242, 1239, 1223, 1224, 1228, 1236, 1233, 1236, 1221, 1208, 1222, 1230, 1220, 1225, 1225, 1239, 1221, 1242, 1234]\n",
    "sum_zero = 0\n",
    "for i in range(len(length_zero)):\n",
    "    sum_zero = sum_zero + length_zero[i]\n",
    "print('Mean is: ', sum_zero/len(length_zero))\n",
    "fig = plt.figure()\n",
    "ax = fig.add_subplot(111)\n",
    "ax.hist(length_zero, bins=10, alpha = 0.5, color = 'red')\n",
    "ax.set_xlabel(\"Alignment length\")\n",
    "ax.set_ylabel(\"Frequency\")"
   ]
  }
 ],
 "metadata": {
  "kernelspec": {
   "display_name": "Python 3",
   "language": "python",
   "name": "python3"
  },
  "language_info": {
   "codemirror_mode": {
    "name": "ipython",
    "version": 3
   },
   "file_extension": ".py",
   "mimetype": "text/x-python",
   "name": "python",
   "nbconvert_exporter": "python",
   "pygments_lexer": "ipython3",
   "version": "3.6.7"
  }
 },
 "nbformat": 4,
 "nbformat_minor": 2
}
